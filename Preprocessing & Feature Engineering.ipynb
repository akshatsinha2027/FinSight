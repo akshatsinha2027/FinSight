{
 "cells": [
  {
   "cell_type": "markdown",
   "id": "8bad2d5f",
   "metadata": {},
   "source": [
    "# 1. Data Importing"
   ]
  },
  {
   "cell_type": "code",
   "execution_count": 1,
   "id": "4a257cbd",
   "metadata": {},
   "outputs": [],
   "source": [
    "import pandas as pd\n",
    "import numpy as np\n",
    "import yfinance as yf\n",
    "import matplotlib.pyplot as plt"
   ]
  },
  {
   "cell_type": "code",
   "execution_count": 2,
   "id": "7c070a94",
   "metadata": {},
   "outputs": [
    {
     "name": "stdout",
     "output_type": "stream",
     "text": [
      "1996-01-01 00:00:00+05:30 2025-09-23 00:00:00+05:30\n"
     ]
    }
   ],
   "source": [
    "ticker = yf.Ticker(\"RELIANCE.NS\")\n",
    "hist = ticker.history(period=\"max\")\n",
    "print(hist.index.min(),hist.index.max())"
   ]
  },
  {
   "cell_type": "code",
   "execution_count": 3,
   "id": "930639b4",
   "metadata": {},
   "outputs": [
    {
     "name": "stderr",
     "output_type": "stream",
     "text": [
      "[*********************100%***********************]  1 of 1 completed\n"
     ]
    }
   ],
   "source": [
    "df=yf.download(\"RELIANCE.NS\",period=\"max\",auto_adjust=False)"
   ]
  },
  {
   "cell_type": "code",
   "execution_count": 4,
   "id": "ef50f9a5",
   "metadata": {},
   "outputs": [
    {
     "name": "stdout",
     "output_type": "stream",
     "text": [
      "Raw Data (7464, 6)\n"
     ]
    },
    {
     "data": {
      "text/html": [
       "<div>\n",
       "<style scoped>\n",
       "    .dataframe tbody tr th:only-of-type {\n",
       "        vertical-align: middle;\n",
       "    }\n",
       "\n",
       "    .dataframe tbody tr th {\n",
       "        vertical-align: top;\n",
       "    }\n",
       "\n",
       "    .dataframe thead tr th {\n",
       "        text-align: left;\n",
       "    }\n",
       "\n",
       "    .dataframe thead tr:last-of-type th {\n",
       "        text-align: right;\n",
       "    }\n",
       "</style>\n",
       "<table border=\"1\" class=\"dataframe\">\n",
       "  <thead>\n",
       "    <tr>\n",
       "      <th>Price</th>\n",
       "      <th>Adj Close</th>\n",
       "      <th>Close</th>\n",
       "      <th>High</th>\n",
       "      <th>Low</th>\n",
       "      <th>Open</th>\n",
       "      <th>Volume</th>\n",
       "    </tr>\n",
       "    <tr>\n",
       "      <th>Ticker</th>\n",
       "      <th>RELIANCE.NS</th>\n",
       "      <th>RELIANCE.NS</th>\n",
       "      <th>RELIANCE.NS</th>\n",
       "      <th>RELIANCE.NS</th>\n",
       "      <th>RELIANCE.NS</th>\n",
       "      <th>RELIANCE.NS</th>\n",
       "    </tr>\n",
       "    <tr>\n",
       "      <th>Date</th>\n",
       "      <th></th>\n",
       "      <th></th>\n",
       "      <th></th>\n",
       "      <th></th>\n",
       "      <th></th>\n",
       "      <th></th>\n",
       "    </tr>\n",
       "  </thead>\n",
       "  <tbody>\n",
       "    <tr>\n",
       "      <th>2017-05-05</th>\n",
       "      <td>291.050964</td>\n",
       "      <td>303.615601</td>\n",
       "      <td>312.553223</td>\n",
       "      <td>302.872711</td>\n",
       "      <td>311.238861</td>\n",
       "      <td>15598448</td>\n",
       "    </tr>\n",
       "    <tr>\n",
       "      <th>1999-03-05</th>\n",
       "      <td>7.687629</td>\n",
       "      <td>10.903710</td>\n",
       "      <td>11.242889</td>\n",
       "      <td>10.818022</td>\n",
       "      <td>10.967975</td>\n",
       "      <td>175151024</td>\n",
       "    </tr>\n",
       "    <tr>\n",
       "      <th>2011-02-28</th>\n",
       "      <td>197.431519</td>\n",
       "      <td>220.411331</td>\n",
       "      <td>227.280258</td>\n",
       "      <td>219.439850</td>\n",
       "      <td>221.771393</td>\n",
       "      <td>22487428</td>\n",
       "    </tr>\n",
       "    <tr>\n",
       "      <th>2000-08-14</th>\n",
       "      <td>17.737392</td>\n",
       "      <td>23.517595</td>\n",
       "      <td>23.696112</td>\n",
       "      <td>23.014183</td>\n",
       "      <td>23.492603</td>\n",
       "      <td>37143638</td>\n",
       "    </tr>\n",
       "    <tr>\n",
       "      <th>2011-08-05</th>\n",
       "      <td>163.659973</td>\n",
       "      <td>181.037872</td>\n",
       "      <td>182.752258</td>\n",
       "      <td>178.066299</td>\n",
       "      <td>182.752258</td>\n",
       "      <td>26222826</td>\n",
       "    </tr>\n",
       "  </tbody>\n",
       "</table>\n",
       "</div>"
      ],
      "text/plain": [
       "Price        Adj Close       Close        High         Low        Open  \\\n",
       "Ticker     RELIANCE.NS RELIANCE.NS RELIANCE.NS RELIANCE.NS RELIANCE.NS   \n",
       "Date                                                                     \n",
       "2017-05-05  291.050964  303.615601  312.553223  302.872711  311.238861   \n",
       "1999-03-05    7.687629   10.903710   11.242889   10.818022   10.967975   \n",
       "2011-02-28  197.431519  220.411331  227.280258  219.439850  221.771393   \n",
       "2000-08-14   17.737392   23.517595   23.696112   23.014183   23.492603   \n",
       "2011-08-05  163.659973  181.037872  182.752258  178.066299  182.752258   \n",
       "\n",
       "Price           Volume  \n",
       "Ticker     RELIANCE.NS  \n",
       "Date                    \n",
       "2017-05-05    15598448  \n",
       "1999-03-05   175151024  \n",
       "2011-02-28    22487428  \n",
       "2000-08-14    37143638  \n",
       "2011-08-05    26222826  "
      ]
     },
     "execution_count": 4,
     "metadata": {},
     "output_type": "execute_result"
    }
   ],
   "source": [
    "print(\"Raw Data\",df.shape)\n",
    "df.sample(5)"
   ]
  },
  {
   "cell_type": "markdown",
   "id": "ef9ad4d1",
   "metadata": {},
   "source": [
    "# 2. Data Preprocessing"
   ]
  },
  {
   "cell_type": "code",
   "execution_count": 5,
   "id": "9214bdf9",
   "metadata": {},
   "outputs": [
    {
     "data": {
      "text/html": [
       "<div>\n",
       "<style scoped>\n",
       "    .dataframe tbody tr th:only-of-type {\n",
       "        vertical-align: middle;\n",
       "    }\n",
       "\n",
       "    .dataframe tbody tr th {\n",
       "        vertical-align: top;\n",
       "    }\n",
       "\n",
       "    .dataframe thead th {\n",
       "        text-align: right;\n",
       "    }\n",
       "</style>\n",
       "<table border=\"1\" class=\"dataframe\">\n",
       "  <thead>\n",
       "    <tr style=\"text-align: right;\">\n",
       "      <th></th>\n",
       "      <th>Adj Close</th>\n",
       "      <th>Close</th>\n",
       "      <th>High</th>\n",
       "      <th>Low</th>\n",
       "      <th>Open</th>\n",
       "      <th>Volume</th>\n",
       "    </tr>\n",
       "    <tr>\n",
       "      <th>Date</th>\n",
       "      <th></th>\n",
       "      <th></th>\n",
       "      <th></th>\n",
       "      <th></th>\n",
       "      <th></th>\n",
       "      <th></th>\n",
       "    </tr>\n",
       "  </thead>\n",
       "  <tbody>\n",
       "    <tr>\n",
       "      <th>2006-01-24</th>\n",
       "      <td>68.236198</td>\n",
       "      <td>79.255501</td>\n",
       "      <td>81.604195</td>\n",
       "      <td>78.741188</td>\n",
       "      <td>81.147026</td>\n",
       "      <td>98982821</td>\n",
       "    </tr>\n",
       "    <tr>\n",
       "      <th>2007-07-03</th>\n",
       "      <td>171.474319</td>\n",
       "      <td>195.130035</td>\n",
       "      <td>195.764343</td>\n",
       "      <td>191.564133</td>\n",
       "      <td>191.564133</td>\n",
       "      <td>23453510</td>\n",
       "    </tr>\n",
       "    <tr>\n",
       "      <th>2021-02-25</th>\n",
       "      <td>972.315247</td>\n",
       "      <td>989.617188</td>\n",
       "      <td>993.147644</td>\n",
       "      <td>956.689148</td>\n",
       "      <td>958.073669</td>\n",
       "      <td>34855693</td>\n",
       "    </tr>\n",
       "    <tr>\n",
       "      <th>2008-03-24</th>\n",
       "      <td>220.984192</td>\n",
       "      <td>251.470062</td>\n",
       "      <td>252.550125</td>\n",
       "      <td>242.915344</td>\n",
       "      <td>246.869827</td>\n",
       "      <td>26119935</td>\n",
       "    </tr>\n",
       "    <tr>\n",
       "      <th>2013-05-10</th>\n",
       "      <td>172.261703</td>\n",
       "      <td>185.826691</td>\n",
       "      <td>187.552505</td>\n",
       "      <td>184.969513</td>\n",
       "      <td>186.226715</td>\n",
       "      <td>9081731</td>\n",
       "    </tr>\n",
       "  </tbody>\n",
       "</table>\n",
       "</div>"
      ],
      "text/plain": [
       "             Adj Close       Close        High         Low        Open  \\\n",
       "Date                                                                     \n",
       "2006-01-24   68.236198   79.255501   81.604195   78.741188   81.147026   \n",
       "2007-07-03  171.474319  195.130035  195.764343  191.564133  191.564133   \n",
       "2021-02-25  972.315247  989.617188  993.147644  956.689148  958.073669   \n",
       "2008-03-24  220.984192  251.470062  252.550125  242.915344  246.869827   \n",
       "2013-05-10  172.261703  185.826691  187.552505  184.969513  186.226715   \n",
       "\n",
       "              Volume  \n",
       "Date                  \n",
       "2006-01-24  98982821  \n",
       "2007-07-03  23453510  \n",
       "2021-02-25  34855693  \n",
       "2008-03-24  26119935  \n",
       "2013-05-10   9081731  "
      ]
     },
     "execution_count": 5,
     "metadata": {},
     "output_type": "execute_result"
    }
   ],
   "source": [
    "df.columns=['Adj Close','Close','High','Low','Open','Volume']\n",
    "df.sample(5)"
   ]
  },
  {
   "cell_type": "code",
   "execution_count": 6,
   "id": "5399c30c",
   "metadata": {},
   "outputs": [],
   "source": [
    "beginning_cols=['Open','Close','Adj Close']\n",
    "later_cols=[c for c in df.columns if c not in beginning_cols]\n",
    "df=df[beginning_cols+later_cols]"
   ]
  },
  {
   "cell_type": "code",
   "execution_count": 7,
   "id": "2987463a",
   "metadata": {},
   "outputs": [
    {
     "data": {
      "text/plain": [
       "Index(['Date', 'Open', 'Close', 'Adj Close', 'High', 'Low', 'Volume'], dtype='object')"
      ]
     },
     "execution_count": 7,
     "metadata": {},
     "output_type": "execute_result"
    }
   ],
   "source": [
    "df=df.reset_index()\n",
    "df.columns"
   ]
  },
  {
   "cell_type": "code",
   "execution_count": 8,
   "id": "4d42da3a",
   "metadata": {},
   "outputs": [
    {
     "data": {
      "text/html": [
       "<div>\n",
       "<style scoped>\n",
       "    .dataframe tbody tr th:only-of-type {\n",
       "        vertical-align: middle;\n",
       "    }\n",
       "\n",
       "    .dataframe tbody tr th {\n",
       "        vertical-align: top;\n",
       "    }\n",
       "\n",
       "    .dataframe thead th {\n",
       "        text-align: right;\n",
       "    }\n",
       "</style>\n",
       "<table border=\"1\" class=\"dataframe\">\n",
       "  <thead>\n",
       "    <tr style=\"text-align: right;\">\n",
       "      <th></th>\n",
       "      <th>Date</th>\n",
       "      <th>Open</th>\n",
       "      <th>Close</th>\n",
       "      <th>Adj Close</th>\n",
       "      <th>High</th>\n",
       "      <th>Low</th>\n",
       "      <th>Volume</th>\n",
       "    </tr>\n",
       "  </thead>\n",
       "  <tbody>\n",
       "    <tr>\n",
       "      <th>3849</th>\n",
       "      <td>2011-01-28</td>\n",
       "      <td>216.011108</td>\n",
       "      <td>208.696442</td>\n",
       "      <td>186.938004</td>\n",
       "      <td>216.216827</td>\n",
       "      <td>206.182022</td>\n",
       "      <td>33855702</td>\n",
       "    </tr>\n",
       "    <tr>\n",
       "      <th>591</th>\n",
       "      <td>1998-04-07</td>\n",
       "      <td>13.174423</td>\n",
       "      <td>13.235118</td>\n",
       "      <td>9.040643</td>\n",
       "      <td>13.388642</td>\n",
       "      <td>13.074455</td>\n",
       "      <td>120966571</td>\n",
       "    </tr>\n",
       "    <tr>\n",
       "      <th>5446</th>\n",
       "      <td>2017-07-26</td>\n",
       "      <td>366.693146</td>\n",
       "      <td>370.933350</td>\n",
       "      <td>358.409515</td>\n",
       "      <td>372.567719</td>\n",
       "      <td>365.984528</td>\n",
       "      <td>21954323</td>\n",
       "    </tr>\n",
       "    <tr>\n",
       "      <th>2511</th>\n",
       "      <td>2005-08-26</td>\n",
       "      <td>49.944988</td>\n",
       "      <td>49.895004</td>\n",
       "      <td>42.957840</td>\n",
       "      <td>50.262749</td>\n",
       "      <td>49.527264</td>\n",
       "      <td>50759283</td>\n",
       "    </tr>\n",
       "    <tr>\n",
       "      <th>840</th>\n",
       "      <td>1999-03-22</td>\n",
       "      <td>9.361338</td>\n",
       "      <td>9.168542</td>\n",
       "      <td>6.464253</td>\n",
       "      <td>9.425603</td>\n",
       "      <td>9.047151</td>\n",
       "      <td>52939461</td>\n",
       "    </tr>\n",
       "  </tbody>\n",
       "</table>\n",
       "</div>"
      ],
      "text/plain": [
       "           Date        Open       Close   Adj Close        High         Low  \\\n",
       "3849 2011-01-28  216.011108  208.696442  186.938004  216.216827  206.182022   \n",
       "591  1998-04-07   13.174423   13.235118    9.040643   13.388642   13.074455   \n",
       "5446 2017-07-26  366.693146  370.933350  358.409515  372.567719  365.984528   \n",
       "2511 2005-08-26   49.944988   49.895004   42.957840   50.262749   49.527264   \n",
       "840  1999-03-22    9.361338    9.168542    6.464253    9.425603    9.047151   \n",
       "\n",
       "         Volume  \n",
       "3849   33855702  \n",
       "591   120966571  \n",
       "5446   21954323  \n",
       "2511   50759283  \n",
       "840    52939461  "
      ]
     },
     "execution_count": 8,
     "metadata": {},
     "output_type": "execute_result"
    }
   ],
   "source": [
    "df.sample(5)"
   ]
  },
  {
   "cell_type": "code",
   "execution_count": 9,
   "id": "4a982778",
   "metadata": {},
   "outputs": [
    {
     "name": "stdout",
     "output_type": "stream",
     "text": [
      "<class 'pandas.core.frame.DataFrame'>\n",
      "RangeIndex: 7464 entries, 0 to 7463\n",
      "Data columns (total 7 columns):\n",
      " #   Column     Non-Null Count  Dtype         \n",
      "---  ------     --------------  -----         \n",
      " 0   Date       7464 non-null   datetime64[ns]\n",
      " 1   Open       7464 non-null   float64       \n",
      " 2   Close      7464 non-null   float64       \n",
      " 3   Adj Close  7464 non-null   float64       \n",
      " 4   High       7464 non-null   float64       \n",
      " 5   Low        7464 non-null   float64       \n",
      " 6   Volume     7464 non-null   int64         \n",
      "dtypes: datetime64[ns](1), float64(5), int64(1)\n",
      "memory usage: 408.3 KB\n"
     ]
    }
   ],
   "source": [
    "df.info()"
   ]
  },
  {
   "cell_type": "code",
   "execution_count": 10,
   "id": "a4073448",
   "metadata": {},
   "outputs": [
    {
     "data": {
      "text/html": [
       "<div>\n",
       "<style scoped>\n",
       "    .dataframe tbody tr th:only-of-type {\n",
       "        vertical-align: middle;\n",
       "    }\n",
       "\n",
       "    .dataframe tbody tr th {\n",
       "        vertical-align: top;\n",
       "    }\n",
       "\n",
       "    .dataframe thead th {\n",
       "        text-align: right;\n",
       "    }\n",
       "</style>\n",
       "<table border=\"1\" class=\"dataframe\">\n",
       "  <thead>\n",
       "    <tr style=\"text-align: right;\">\n",
       "      <th></th>\n",
       "      <th>Date</th>\n",
       "      <th>Open</th>\n",
       "      <th>Close</th>\n",
       "      <th>Adj Close</th>\n",
       "      <th>High</th>\n",
       "      <th>Low</th>\n",
       "      <th>Volume</th>\n",
       "    </tr>\n",
       "  </thead>\n",
       "  <tbody>\n",
       "    <tr>\n",
       "      <th>count</th>\n",
       "      <td>7464</td>\n",
       "      <td>7464.000000</td>\n",
       "      <td>7464.000000</td>\n",
       "      <td>7464.000000</td>\n",
       "      <td>7464.000000</td>\n",
       "      <td>7464.000000</td>\n",
       "      <td>7.464000e+03</td>\n",
       "    </tr>\n",
       "    <tr>\n",
       "      <th>mean</th>\n",
       "      <td>2010-09-09 08:10:36.655948544</td>\n",
       "      <td>346.549586</td>\n",
       "      <td>346.284081</td>\n",
       "      <td>334.151864</td>\n",
       "      <td>350.317480</td>\n",
       "      <td>342.534749</td>\n",
       "      <td>5.848913e+07</td>\n",
       "    </tr>\n",
       "    <tr>\n",
       "      <th>min</th>\n",
       "      <td>1996-01-01 00:00:00</td>\n",
       "      <td>5.462565</td>\n",
       "      <td>5.487558</td>\n",
       "      <td>3.449042</td>\n",
       "      <td>5.487558</td>\n",
       "      <td>5.428648</td>\n",
       "      <td>0.000000e+00</td>\n",
       "    </tr>\n",
       "    <tr>\n",
       "      <th>25%</th>\n",
       "      <td>2003-02-24 18:00:00</td>\n",
       "      <td>25.599083</td>\n",
       "      <td>25.559811</td>\n",
       "      <td>19.643190</td>\n",
       "      <td>25.988247</td>\n",
       "      <td>25.167076</td>\n",
       "      <td>1.339710e+07</td>\n",
       "    </tr>\n",
       "    <tr>\n",
       "      <th>50%</th>\n",
       "      <td>2010-08-10 12:00:00</td>\n",
       "      <td>199.524544</td>\n",
       "      <td>199.284523</td>\n",
       "      <td>183.156685</td>\n",
       "      <td>201.838943</td>\n",
       "      <td>196.764404</td>\n",
       "      <td>2.362658e+07</td>\n",
       "    </tr>\n",
       "    <tr>\n",
       "      <th>75%</th>\n",
       "      <td>2018-03-06 06:00:00</td>\n",
       "      <td>426.553368</td>\n",
       "      <td>425.804749</td>\n",
       "      <td>411.428284</td>\n",
       "      <td>430.879303</td>\n",
       "      <td>421.878822</td>\n",
       "      <td>6.085093e+07</td>\n",
       "    </tr>\n",
       "    <tr>\n",
       "      <th>max</th>\n",
       "      <td>2025-09-23 00:00:00</td>\n",
       "      <td>1604.449951</td>\n",
       "      <td>1600.900024</td>\n",
       "      <td>1589.138184</td>\n",
       "      <td>1608.800049</td>\n",
       "      <td>1585.500000</td>\n",
       "      <td>1.448889e+09</td>\n",
       "    </tr>\n",
       "    <tr>\n",
       "      <th>std</th>\n",
       "      <td>NaN</td>\n",
       "      <td>423.315554</td>\n",
       "      <td>423.091816</td>\n",
       "      <td>421.979820</td>\n",
       "      <td>427.166920</td>\n",
       "      <td>419.286051</td>\n",
       "      <td>1.013062e+08</td>\n",
       "    </tr>\n",
       "  </tbody>\n",
       "</table>\n",
       "</div>"
      ],
      "text/plain": [
       "                                Date         Open        Close    Adj Close  \\\n",
       "count                           7464  7464.000000  7464.000000  7464.000000   \n",
       "mean   2010-09-09 08:10:36.655948544   346.549586   346.284081   334.151864   \n",
       "min              1996-01-01 00:00:00     5.462565     5.487558     3.449042   \n",
       "25%              2003-02-24 18:00:00    25.599083    25.559811    19.643190   \n",
       "50%              2010-08-10 12:00:00   199.524544   199.284523   183.156685   \n",
       "75%              2018-03-06 06:00:00   426.553368   425.804749   411.428284   \n",
       "max              2025-09-23 00:00:00  1604.449951  1600.900024  1589.138184   \n",
       "std                              NaN   423.315554   423.091816   421.979820   \n",
       "\n",
       "              High          Low        Volume  \n",
       "count  7464.000000  7464.000000  7.464000e+03  \n",
       "mean    350.317480   342.534749  5.848913e+07  \n",
       "min       5.487558     5.428648  0.000000e+00  \n",
       "25%      25.988247    25.167076  1.339710e+07  \n",
       "50%     201.838943   196.764404  2.362658e+07  \n",
       "75%     430.879303   421.878822  6.085093e+07  \n",
       "max    1608.800049  1585.500000  1.448889e+09  \n",
       "std     427.166920   419.286051  1.013062e+08  "
      ]
     },
     "execution_count": 10,
     "metadata": {},
     "output_type": "execute_result"
    }
   ],
   "source": [
    "df.describe()"
   ]
  },
  {
   "cell_type": "code",
   "execution_count": 24,
   "id": "f2ba2346",
   "metadata": {},
   "outputs": [
    {
     "data": {
      "text/plain": [
       "RangeIndex(start=0, stop=7464, step=1)"
      ]
     },
     "execution_count": 24,
     "metadata": {},
     "output_type": "execute_result"
    }
   ],
   "source": [
    "df.index"
   ]
  },
  {
   "cell_type": "code",
   "execution_count": 29,
   "id": "ecb9c040",
   "metadata": {},
   "outputs": [],
   "source": [
    "df.set_index('Date',inplace=True)"
   ]
  },
  {
   "cell_type": "code",
   "execution_count": 30,
   "id": "42f0aa21",
   "metadata": {},
   "outputs": [
    {
     "data": {
      "text/plain": [
       "DatetimeIndex(['1996-01-01', '1996-01-02', '1996-01-03', '1996-01-04',\n",
       "               '1996-01-05', '1996-01-08', '1996-01-09', '1996-01-10',\n",
       "               '1996-01-11', '1996-01-12',\n",
       "               ...\n",
       "               '2025-09-10', '2025-09-11', '2025-09-12', '2025-09-15',\n",
       "               '2025-09-16', '2025-09-17', '2025-09-18', '2025-09-19',\n",
       "               '2025-09-22', '2025-09-23'],\n",
       "              dtype='datetime64[ns]', name='Date', length=7464, freq=None)"
      ]
     },
     "execution_count": 30,
     "metadata": {},
     "output_type": "execute_result"
    }
   ],
   "source": [
    "df.index"
   ]
  },
  {
   "cell_type": "code",
   "execution_count": 32,
   "id": "113495fc",
   "metadata": {},
   "outputs": [
    {
     "data": {
      "text/plain": [
       "Text(0, 0.5, 'Adj Close Price')"
      ]
     },
     "execution_count": 32,
     "metadata": {},
     "output_type": "execute_result"
    },
    {
     "data": {
      "image/png": "[encoded data removed]",
      "text/plain": [
       "<Figure size 1200x600 with 1 Axes>"
      ]
     },
     "metadata": {},
     "output_type": "display_data"
    }
   ],
   "source": [
    "plt.figure(figsize=(12,6))\n",
    "plt.plot(df.index,df['Adj Close'])\n",
    "plt.title(ticker)\n",
    "plt.xlabel(\"Year\")\n",
    "plt.ylabel(\"Adj Close Price\")"
   ]
  },
  {
   "cell_type": "code",
   "execution_count": null,
   "id": "f74fcb60",
   "metadata": {},
   "outputs": [],
   "source": []
  }
 ],
 "metadata": {
  "kernelspec": {
   "display_name": "Python 3",
   "language": "python",
   "name": "python3"
  },
  "language_info": {
   "codemirror_mode": {
    "name": "ipython",
    "version": 3
   },
   "file_extension": ".py",
   "mimetype": "text/x-python",
   "name": "python",
   "nbconvert_exporter": "python",
   "pygments_lexer": "ipython3",
   "version": "3.9.6"
  }
 },
 "nbformat": 4,
 "nbformat_minor": 5
}

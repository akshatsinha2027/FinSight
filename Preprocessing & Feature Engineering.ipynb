{
 "cells": [
  {
   "cell_type": "code",
   "execution_count": 7,
   "id": "4a257cbd",
   "metadata": {},
   "outputs": [],
   "source": [
    "import pandas as pd\n",
    "import numpy as np\n",
    "import yfinance as yf\n",
    "import matplotlib.pyplot as plt"
   ]
  },
  {
   "cell_type": "code",
   "execution_count": null,
   "id": "7c070a94",
   "metadata": {},
   "outputs": [
    {
     "name": "stdout",
     "output_type": "stream",
     "text": [
      "1996-01-01 00:00:00+05:30 2025-09-23 00:00:00+05:30\n"
     ]
    }
   ],
   "source": [
    "ticker = yf.Ticker(\"RELIANCE.NS\")\n",
    "hist = ticker.history(period=\"max\")\n",
    "print(hist.index.min(),hist.index.max())"
   ]
  },
  {
   "cell_type": "code",
   "execution_count": 25,
   "id": "930639b4",
   "metadata": {},
   "outputs": [
    {
     "name": "stderr",
     "output_type": "stream",
     "text": [
      "/var/folders/nc/hvlqvddd2xj11jl0l69nx3580000gn/T/ipykernel_8719/2319789815.py:1: FutureWarning: YF.download() has changed argument auto_adjust default to True\n",
      "  df=yf.download(\"RELIANCE.NS\",period=\"max\")\n",
      "[*********************100%***********************]  1 of 1 completed\n"
     ]
    }
   ],
   "source": [
    "df=yf.download(\"RELIANCE.NS\",period=\"max\")"
   ]
  },
  {
   "cell_type": "code",
   "execution_count": 28,
   "id": "ef50f9a5",
   "metadata": {},
   "outputs": [
    {
     "data": {
      "text/html": [
       "<div>\n",
       "<style scoped>\n",
       "    .dataframe tbody tr th:only-of-type {\n",
       "        vertical-align: middle;\n",
       "    }\n",
       "\n",
       "    .dataframe tbody tr th {\n",
       "        vertical-align: top;\n",
       "    }\n",
       "\n",
       "    .dataframe thead tr th {\n",
       "        text-align: left;\n",
       "    }\n",
       "\n",
       "    .dataframe thead tr:last-of-type th {\n",
       "        text-align: right;\n",
       "    }\n",
       "</style>\n",
       "<table border=\"1\" class=\"dataframe\">\n",
       "  <thead>\n",
       "    <tr>\n",
       "      <th>Price</th>\n",
       "      <th>Close</th>\n",
       "      <th>High</th>\n",
       "      <th>Low</th>\n",
       "      <th>Open</th>\n",
       "      <th>Volume</th>\n",
       "    </tr>\n",
       "    <tr>\n",
       "      <th>Ticker</th>\n",
       "      <th>RELIANCE.NS</th>\n",
       "      <th>RELIANCE.NS</th>\n",
       "      <th>RELIANCE.NS</th>\n",
       "      <th>RELIANCE.NS</th>\n",
       "      <th>RELIANCE.NS</th>\n",
       "    </tr>\n",
       "    <tr>\n",
       "      <th>Date</th>\n",
       "      <th></th>\n",
       "      <th></th>\n",
       "      <th></th>\n",
       "      <th></th>\n",
       "      <th></th>\n",
       "    </tr>\n",
       "  </thead>\n",
       "  <tbody>\n",
       "    <tr>\n",
       "      <th>2013-04-26</th>\n",
       "      <td>165.905930</td>\n",
       "      <td>172.731440</td>\n",
       "      <td>165.340629</td>\n",
       "      <td>170.218984</td>\n",
       "      <td>20852076</td>\n",
       "    </tr>\n",
       "    <tr>\n",
       "      <th>2015-12-08</th>\n",
       "      <td>203.877884</td>\n",
       "      <td>206.629763</td>\n",
       "      <td>202.837802</td>\n",
       "      <td>205.611349</td>\n",
       "      <td>7532164</td>\n",
       "    </tr>\n",
       "    <tr>\n",
       "      <th>2004-07-22</th>\n",
       "      <td>27.295938</td>\n",
       "      <td>27.478952</td>\n",
       "      <td>26.281865</td>\n",
       "      <td>26.641891</td>\n",
       "      <td>146069233</td>\n",
       "    </tr>\n",
       "    <tr>\n",
       "      <th>1996-06-26</th>\n",
       "      <td>4.976831</td>\n",
       "      <td>5.105825</td>\n",
       "      <td>4.952205</td>\n",
       "      <td>5.105825</td>\n",
       "      <td>296123198</td>\n",
       "    </tr>\n",
       "    <tr>\n",
       "      <th>2019-11-05</th>\n",
       "      <td>647.454102</td>\n",
       "      <td>657.139288</td>\n",
       "      <td>644.635798</td>\n",
       "      <td>654.522318</td>\n",
       "      <td>12685356</td>\n",
       "    </tr>\n",
       "  </tbody>\n",
       "</table>\n",
       "</div>"
      ],
      "text/plain": [
       "Price            Close        High         Low        Open      Volume\n",
       "Ticker     RELIANCE.NS RELIANCE.NS RELIANCE.NS RELIANCE.NS RELIANCE.NS\n",
       "Date                                                                  \n",
       "2013-04-26  165.905930  172.731440  165.340629  170.218984    20852076\n",
       "2015-12-08  203.877884  206.629763  202.837802  205.611349     7532164\n",
       "2004-07-22   27.295938   27.478952   26.281865   26.641891   146069233\n",
       "1996-06-26    4.976831    5.105825    4.952205    5.105825   296123198\n",
       "2019-11-05  647.454102  657.139288  644.635798  654.522318    12685356"
      ]
     },
     "execution_count": 28,
     "metadata": {},
     "output_type": "execute_result"
    }
   ],
   "source": [
    "df.sample(5)"
   ]
  },
  {
   "cell_type": "code",
   "execution_count": null,
   "id": "9214bdf9",
   "metadata": {},
   "outputs": [],
   "source": []
  }
 ],
 "metadata": {
  "kernelspec": {
   "display_name": "Python 3",
   "language": "python",
   "name": "python3"
  },
  "language_info": {
   "codemirror_mode": {
    "name": "ipython",
    "version": 3
   },
   "file_extension": ".py",
   "mimetype": "text/x-python",
   "name": "python",
   "nbconvert_exporter": "python",
   "pygments_lexer": "ipython3",
   "version": "3.9.6"
  }
 },
 "nbformat": 4,
 "nbformat_minor": 5
}

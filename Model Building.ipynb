{
 "cells": [
  {
   "cell_type": "code",
   "execution_count": null,
   "id": "6d8ba914",
   "metadata": {},
   "outputs": [
    {
     "data": {
      "text/html": [
       "<div>\n",
       "<style scoped>\n",
       "    .dataframe tbody tr th:only-of-type {\n",
       "        vertical-align: middle;\n",
       "    }\n",
       "\n",
       "    .dataframe tbody tr th {\n",
       "        vertical-align: top;\n",
       "    }\n",
       "\n",
       "    .dataframe thead th {\n",
       "        text-align: right;\n",
       "    }\n",
       "</style>\n",
       "<table border=\"1\" class=\"dataframe\">\n",
       "  <thead>\n",
       "    <tr style=\"text-align: right;\">\n",
       "      <th></th>\n",
       "      <th>Unnamed: 0</th>\n",
       "      <th>Date</th>\n",
       "      <th>Open</th>\n",
       "      <th>Close</th>\n",
       "      <th>Adj Close</th>\n",
       "      <th>High</th>\n",
       "      <th>Low</th>\n",
       "      <th>Volume</th>\n",
       "      <th>MACD_Line</th>\n",
       "      <th>MACD_Signal</th>\n",
       "      <th>...</th>\n",
       "      <th>SMA_10</th>\n",
       "      <th>EMA_10</th>\n",
       "      <th>SMA_20</th>\n",
       "      <th>EMA_20</th>\n",
       "      <th>SMA_50</th>\n",
       "      <th>EMA_50</th>\n",
       "      <th>SMA_100</th>\n",
       "      <th>EMA_100</th>\n",
       "      <th>SMA_200</th>\n",
       "      <th>EMA_200</th>\n",
       "    </tr>\n",
       "  </thead>\n",
       "  <tbody>\n",
       "    <tr>\n",
       "      <th>7327</th>\n",
       "      <td>7327</td>\n",
       "      <td>2025-03-06</td>\n",
       "      <td>1197.000000</td>\n",
       "      <td>1209.599976</td>\n",
       "      <td>1204.788208</td>\n",
       "      <td>1213.949951</td>\n",
       "      <td>1185.150024</td>\n",
       "      <td>14468014</td>\n",
       "      <td>-17.329317</td>\n",
       "      <td>-14.409278</td>\n",
       "      <td>...</td>\n",
       "      <td>1195.749280</td>\n",
       "      <td>1193.720112</td>\n",
       "      <td>1213.635352</td>\n",
       "      <td>1208.217375</td>\n",
       "      <td>1233.257483</td>\n",
       "      <td>1233.154904</td>\n",
       "      <td>1260.787535</td>\n",
       "      <td>1271.365986</td>\n",
       "      <td>1368.782479</td>\n",
       "      <td>1313.167096</td>\n",
       "    </tr>\n",
       "    <tr>\n",
       "      <th>3803</th>\n",
       "      <td>3803</td>\n",
       "      <td>2010-11-23</td>\n",
       "      <td>229.646088</td>\n",
       "      <td>227.577408</td>\n",
       "      <td>203.850479</td>\n",
       "      <td>229.726089</td>\n",
       "      <td>222.868607</td>\n",
       "      <td>33113827</td>\n",
       "      <td>-2.220053</td>\n",
       "      <td>0.435430</td>\n",
       "      <td>...</td>\n",
       "      <td>214.471970</td>\n",
       "      <td>212.067783</td>\n",
       "      <td>218.932471</td>\n",
       "      <td>215.093929</td>\n",
       "      <td>214.102802</td>\n",
       "      <td>213.965838</td>\n",
       "      <td>210.111070</td>\n",
       "      <td>212.197083</td>\n",
       "      <td>211.347465</td>\n",
       "      <td>210.628105</td>\n",
       "    </tr>\n",
       "    <tr>\n",
       "      <th>3935</th>\n",
       "      <td>3935</td>\n",
       "      <td>2011-06-03</td>\n",
       "      <td>219.554138</td>\n",
       "      <td>213.633835</td>\n",
       "      <td>193.127045</td>\n",
       "      <td>221.039932</td>\n",
       "      <td>212.925232</td>\n",
       "      <td>19110238</td>\n",
       "      <td>-1.512743</td>\n",
       "      <td>-2.490533</td>\n",
       "      <td>...</td>\n",
       "      <td>192.870799</td>\n",
       "      <td>193.897471</td>\n",
       "      <td>193.197286</td>\n",
       "      <td>194.521454</td>\n",
       "      <td>201.327687</td>\n",
       "      <td>198.078073</td>\n",
       "      <td>199.963563</td>\n",
       "      <td>201.065147</td>\n",
       "      <td>205.069411</td>\n",
       "      <td>203.947096</td>\n",
       "    </tr>\n",
       "    <tr>\n",
       "      <th>2437</th>\n",
       "      <td>2437</td>\n",
       "      <td>2005-05-13</td>\n",
       "      <td>38.452179</td>\n",
       "      <td>38.291515</td>\n",
       "      <td>32.967648</td>\n",
       "      <td>38.487881</td>\n",
       "      <td>38.130852</td>\n",
       "      <td>24848524</td>\n",
       "      <td>-0.005792</td>\n",
       "      <td>-0.113195</td>\n",
       "      <td>...</td>\n",
       "      <td>32.691891</td>\n",
       "      <td>32.754792</td>\n",
       "      <td>32.420334</td>\n",
       "      <td>32.705166</td>\n",
       "      <td>33.260970</td>\n",
       "      <td>32.768980</td>\n",
       "      <td>32.496389</td>\n",
       "      <td>32.465265</td>\n",
       "      <td>31.572395</td>\n",
       "      <td>31.623308</td>\n",
       "    </tr>\n",
       "    <tr>\n",
       "      <th>7302</th>\n",
       "      <td>7302</td>\n",
       "      <td>2025-01-30</td>\n",
       "      <td>1235.550049</td>\n",
       "      <td>1253.050049</td>\n",
       "      <td>1248.065430</td>\n",
       "      <td>1257.000000</td>\n",
       "      <td>1232.400024</td>\n",
       "      <td>9269259</td>\n",
       "      <td>-2.442084</td>\n",
       "      <td>-0.732659</td>\n",
       "      <td>...</td>\n",
       "      <td>1257.064417</td>\n",
       "      <td>1245.815302</td>\n",
       "      <td>1249.522028</td>\n",
       "      <td>1247.661447</td>\n",
       "      <td>1254.209807</td>\n",
       "      <td>1263.781330</td>\n",
       "      <td>1315.329949</td>\n",
       "      <td>1305.111691</td>\n",
       "      <td>1394.745693</td>\n",
       "      <td>1339.231819</td>\n",
       "    </tr>\n",
       "  </tbody>\n",
       "</table>\n",
       "<p>5 rows × 23 columns</p>\n",
       "</div>"
      ],
      "text/plain": [
       "      Unnamed: 0        Date         Open        Close    Adj Close  \\\n",
       "7327        7327  2025-03-06  1197.000000  1209.599976  1204.788208   \n",
       "3803        3803  2010-11-23   229.646088   227.577408   203.850479   \n",
       "3935        3935  2011-06-03   219.554138   213.633835   193.127045   \n",
       "2437        2437  2005-05-13    38.452179    38.291515    32.967648   \n",
       "7302        7302  2025-01-30  1235.550049  1253.050049  1248.065430   \n",
       "\n",
       "             High          Low    Volume  MACD_Line  MACD_Signal  ...  \\\n",
       "7327  1213.949951  1185.150024  14468014 -17.329317   -14.409278  ...   \n",
       "3803   229.726089   222.868607  33113827  -2.220053     0.435430  ...   \n",
       "3935   221.039932   212.925232  19110238  -1.512743    -2.490533  ...   \n",
       "2437    38.487881    38.130852  24848524  -0.005792    -0.113195  ...   \n",
       "7302  1257.000000  1232.400024   9269259  -2.442084    -0.732659  ...   \n",
       "\n",
       "           SMA_10       EMA_10       SMA_20       EMA_20       SMA_50  \\\n",
       "7327  1195.749280  1193.720112  1213.635352  1208.217375  1233.257483   \n",
       "3803   214.471970   212.067783   218.932471   215.093929   214.102802   \n",
       "3935   192.870799   193.897471   193.197286   194.521454   201.327687   \n",
       "2437    32.691891    32.754792    32.420334    32.705166    33.260970   \n",
       "7302  1257.064417  1245.815302  1249.522028  1247.661447  1254.209807   \n",
       "\n",
       "           EMA_50      SMA_100      EMA_100      SMA_200      EMA_200  \n",
       "7327  1233.154904  1260.787535  1271.365986  1368.782479  1313.167096  \n",
       "3803   213.965838   210.111070   212.197083   211.347465   210.628105  \n",
       "3935   198.078073   199.963563   201.065147   205.069411   203.947096  \n",
       "2437    32.768980    32.496389    32.465265    31.572395    31.623308  \n",
       "7302  1263.781330  1315.329949  1305.111691  1394.745693  1339.231819  \n",
       "\n",
       "[5 rows x 23 columns]"
      ]
     },
     "execution_count": 13,
     "metadata": {},
     "output_type": "execute_result"
    }
   ],
   "source": [
    "import pandas as pd\n",
    "df=pd.read_csv(\"Data Complete.csv\")\n",
    "df.sample(5)"
   ]
  },
  {
   "cell_type": "code",
   "execution_count": 14,
   "id": "90c39efc",
   "metadata": {},
   "outputs": [],
   "source": [
    "df=df.drop(columns=['Unnamed: 0'])"
   ]
  },
  {
   "cell_type": "markdown",
   "id": "8a48d10e",
   "metadata": {},
   "source": [
    "# 5. Preparing Training & Testing Data for different cases"
   ]
  },
  {
   "cell_type": "code",
   "execution_count": 15,
   "id": "8859c6ec",
   "metadata": {},
   "outputs": [],
   "source": [
    "train_size=int(len(df)*0.8)"
   ]
  },
  {
   "cell_type": "markdown",
   "id": "9d2501b3",
   "metadata": {},
   "source": [
    "### ARIMA"
   ]
  },
  {
   "cell_type": "code",
   "execution_count": 16,
   "id": "eea603f0",
   "metadata": {},
   "outputs": [
    {
     "name": "stdout",
     "output_type": "stream",
     "text": [
      "<class 'pandas.core.series.Series'> (5973,)\n",
      "<class 'pandas.core.series.Series'> (1494,)\n"
     ]
    }
   ],
   "source": [
    "train_arima=df['Adj Close'].iloc[:train_size]\n",
    "test_arima=df['Adj Close'].iloc[train_size:]\n",
    "\n",
    "print(type(train_arima),train_arima.shape)\n",
    "print(type(test_arima),test_arima.shape)"
   ]
  },
  {
   "cell_type": "markdown",
   "id": "eaba02be",
   "metadata": {},
   "source": [
    "### PROPHET"
   ]
  },
  {
   "cell_type": "code",
   "execution_count": 17,
   "id": "94d168c5",
   "metadata": {},
   "outputs": [],
   "source": [
    "prophet_df=df.reset_index()[['Date','Adj Close']]\n",
    "\n",
    "train_prophet=prophet_df.iloc[:train_size]\n",
    "test_prophet=prophet_df.iloc[train_size:]"
   ]
  },
  {
   "cell_type": "markdown",
   "id": "58c090f2",
   "metadata": {},
   "source": [
    "### LSTM/GRU for multi-step"
   ]
  },
  {
   "cell_type": "code",
   "execution_count": 40,
   "id": "b53cc0cd",
   "metadata": {},
   "outputs": [],
   "source": [
    "from sklearn.preprocessing import MinMaxScaler\n",
    "scaler=MinMaxScaler(feature_range=(0,1))"
   ]
  },
  {
   "cell_type": "code",
   "execution_count": 41,
   "id": "4efda85f",
   "metadata": {},
   "outputs": [],
   "source": [
    "data_multi=scaler.fit_transform(df[['Adj Close']])"
   ]
  },
  {
   "cell_type": "code",
   "execution_count": 49,
   "id": "bd245ca3",
   "metadata": {},
   "outputs": [],
   "source": [
    "import numpy as np\n",
    "def create_multistep_sequences(data,n_steps,k):\n",
    "    x=[]\n",
    "    y=[]\n",
    "    for i in range(n_steps,len(data)-k+1):\n",
    "        x.append(data[i-n_steps:i])    # past n days\n",
    "        y.append(data[i:i+k])          # next k days\n",
    "    return np.array(x),np.array(y)\n",
    "\n",
    "n_steps=60\n",
    "k=5\n",
    "x,y=create_multistep_sequences(data_multi,n_steps,k)\n",
    "\n",
    "x=x.reshape((x.shape[0],x.shape[1],1))\n",
    "x_train_multistep,x_test_multistep=x[:train_size],x[train_size:]\n",
    "y_train_multistep,y_test_multistep=y[:train_size],y[train_size:]"
   ]
  },
  {
   "cell_type": "markdown",
   "id": "3ae9661e",
   "metadata": {},
   "source": [
    "### XGBOOST/RANDOMFOREST for next day close price and direction"
   ]
  },
  {
   "cell_type": "code",
   "execution_count": null,
   "id": "05894610",
   "metadata": {},
   "outputs": [],
   "source": [
    "next_day_df=df.drop(columns=['Date'])\n",
    "next_day_df['Target']=next_day_df['Close'].shift(-1)\n",
    "x_next_day=next_day_df.drop(columns=['Target'])\n",
    "y_next_day=next_day_df['Target']"
   ]
  },
  {
   "cell_type": "code",
   "execution_count": 63,
   "id": "6a44dd97",
   "metadata": {},
   "outputs": [],
   "source": [
    "x_train_next_day,x_test_next_day=x_next_day[:train_size],x_next_day[train_size:]\n",
    "y_train_next_day,y_test_next_day=y_next_day[:train_size],y_next_day[train_size:]"
   ]
  },
  {
   "cell_type": "markdown",
   "id": "8ded87f6",
   "metadata": {},
   "source": [
    "\n",
    "\n",
    "\n",
    "\n",
    "def prepare_xy(df, mode=\"regression\", n_steps_in=60, n_steps_out=1):\n",
    "    \"\"\"\n",
    "    mode: \"regression\", \"classification\", \"arima\", \"prophet\", \"lstm\"\n",
    "    \"\"\"\n",
    "    if mode == \"arima\":\n",
    "        return None, df[\"Close\"]\n",
    "    \n",
    "    if mode == \"prophet\":\n",
    "        prophet_df = df.reset_index()[[\"Date\", \"Close\"]]\n",
    "        prophet_df.columns = [\"ds\", \"y\"]\n",
    "        return None, prophet_df\n",
    "    \n",
    "    if mode in [\"regression\", \"classification\"]:\n",
    "        X = df[[\"Open\", \"High\", \"Low\", \"Close\", \"Volume\", \"MA_20\", \"MA_50\", \"Volatility\"]]\n",
    "        if mode == \"regression\":\n",
    "            y = df[\"Close\"].shift(-1)\n",
    "        else:\n",
    "            y = (df[\"Close\"].shift(-1) > df[\"Close\"]).astype(int)\n",
    "        return X[:-1], y[:-1]\n",
    "    \n",
    "    if mode == \"lstm\":\n",
    "        data = df[\"Close\"].values\n",
    "        X, y = [], []\n",
    "        for i in range(len(data) - n_steps_in - n_steps_out):\n",
    "            X.append(data[i:i+n_steps_in])\n",
    "            y.append(data[i+n_steps_in:i+n_steps_in+n_steps_out])\n",
    "        return np.array(X), np.array(y)\n"
   ]
  },
  {
   "cell_type": "markdown",
   "id": "e9e52b8f",
   "metadata": {},
   "source": [
    "from prophet import Prophet\n",
    "from statsmodels.tsa.arima.model import ARIMA\n",
    "from sklearn.ensemble import RandomForestRegressor, RandomForestClassifier\n",
    "from xgboost import XGBRegressor, XGBClassifier\n",
    "from tensorflow.keras.models import Sequential\n",
    "from tensorflow.keras.layers import LSTM, GRU, Dense\n",
    "\n",
    "def train_model(X, y, mode=\"regression\", model_type=\"xgb\", n_steps_in=60, n_steps_out=1):\n",
    "    if model_type == \"arima\":\n",
    "        model = ARIMA(y, order=(5,1,0)).fit()\n",
    "        return model\n",
    "    \n",
    "    if model_type == \"prophet\":\n",
    "        model = Prophet()\n",
    "        model.fit(y)  # here y is prophet_df\n",
    "        return model\n",
    "    \n",
    "    if model_type in [\"xgb\", \"rf\"]:\n",
    "        if mode == \"regression\":\n",
    "            model = XGBRegressor() if model_type==\"xgb\" else RandomForestRegressor()\n",
    "        else:\n",
    "            model = XGBClassifier() if model_type==\"xgb\" else RandomForestClassifier()\n",
    "        model.fit(X, y)\n",
    "        return model\n",
    "    \n",
    "    if model_type in [\"lstm\", \"gru\"]:\n",
    "        model = Sequential()\n",
    "        if model_type == \"lstm\":\n",
    "            model.add(LSTM(50, return_sequences=False, input_shape=(n_steps_in, 1)))\n",
    "        else:\n",
    "            model.add(GRU(50, return_sequences=False, input_shape=(n_steps_in, 1)))\n",
    "        model.add(Dense(n_steps_out))\n",
    "        model.compile(optimizer=\"adam\", loss=\"mse\")\n",
    "        model.fit(X.reshape((X.shape[0], X.shape[1], 1)), y, epochs=10, batch_size=32, verbose=1)\n",
    "        return model"
   ]
  },
  {
   "cell_type": "code",
   "execution_count": null,
   "id": "9e47294d",
   "metadata": {},
   "outputs": [],
   "source": []
  }
 ],
 "metadata": {
  "kernelspec": {
   "display_name": "Python 3",
   "language": "python",
   "name": "python3"
  },
  "language_info": {
   "codemirror_mode": {
    "name": "ipython",
    "version": 3
   },
   "file_extension": ".py",
   "mimetype": "text/x-python",
   "name": "python",
   "nbconvert_exporter": "python",
   "pygments_lexer": "ipython3",
   "version": "3.9.6"
  }
 },
 "nbformat": 4,
 "nbformat_minor": 5
}

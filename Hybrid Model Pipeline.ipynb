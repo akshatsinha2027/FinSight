{
 "cells": [
  {
   "cell_type": "code",
   "execution_count": 20,
   "id": "b3992576",
   "metadata": {},
   "outputs": [],
   "source": [
    "import pandas as pd\n",
    "df=pd.read_csv('Data Complete.csv')\n",
    "df=df.drop(columns=['Unnamed: 0'])"
   ]
  },
  {
   "cell_type": "code",
   "execution_count": 21,
   "id": "6022cf4e",
   "metadata": {},
   "outputs": [],
   "source": [
    "df['% Return']=df['Close'].pct_change()*100\n",
    "df['Direction']=(df['% Return']>0).astype(int)\n",
    "import numpy as np\n",
    "df['Log Return']=np.log(df['Close']/df['Close'].shift(1))"
   ]
  },
  {
   "cell_type": "code",
   "execution_count": 22,
   "id": "a2186dc8",
   "metadata": {},
   "outputs": [
    {
     "data": {
      "text/plain": [
       "Index(['Date', 'Open', 'Close', 'Adj Close', 'High', 'Low', 'Volume',\n",
       "       'MACD_Line', 'MACD_Signal', 'MACD_Histogram', 'RSI_14',\n",
       "       'Daily % Return', 'SMA_10', 'EMA_10', 'SMA_20', 'EMA_20', 'SMA_50',\n",
       "       'EMA_50', 'SMA_100', 'EMA_100', 'SMA_200', 'EMA_200', 'Close_LAG1',\n",
       "       'Close_LAG2', 'Close_LAG3', 'Close_LAG5', 'Close_LAG7', 'Close_LAG14',\n",
       "       '% Return', 'Direction', 'Log Return'],\n",
       "      dtype='object')"
      ]
     },
     "execution_count": 22,
     "metadata": {},
     "output_type": "execute_result"
    }
   ],
   "source": [
    "df.columns"
   ]
  },
  {
   "cell_type": "code",
   "execution_count": 232,
   "id": "e988d5c5",
   "metadata": {},
   "outputs": [
    {
     "name": "stderr",
     "output_type": "stream",
     "text": [
      "/var/folders/nc/hvlqvddd2xj11jl0l69nx3580000gn/T/ipykernel_42338/2860289521.py:3: SettingWithCopyWarning: \n",
      "A value is trying to be set on a copy of a slice from a DataFrame.\n",
      "Try using .loc[row_indexer,col_indexer] = value instead\n",
      "\n",
      "See the caveats in the documentation: https://pandas.pydata.org/pandas-docs/stable/user_guide/indexing.html#returning-a-view-versus-a-copy\n",
      "  df_prophet['y']=np.log(df_prophet[['y']])\n"
     ]
    }
   ],
   "source": [
    "df_prophet=df[['Date','Adj Close']]\n",
    "df_prophet.columns=['ds','y']\n",
    "df_prophet['y']=np.log(df_prophet[['y']])"
   ]
  },
  {
   "cell_type": "code",
   "execution_count": 233,
   "id": "3bebb666",
   "metadata": {},
   "outputs": [
    {
     "name": "stderr",
     "output_type": "stream",
     "text": [
      "19:43:34 - cmdstanpy - INFO - Chain [1] start processing\n",
      "19:43:36 - cmdstanpy - INFO - Chain [1] done processing\n"
     ]
    },
    {
     "data": {
      "text/plain": [
       "<prophet.forecaster.Prophet at 0x389cf7a60>"
      ]
     },
     "execution_count": 233,
     "metadata": {},
     "output_type": "execute_result"
    }
   ],
   "source": [
    "from prophet import Prophet\n",
    "p=Prophet()\n",
    "p.fit(df_prophet)"
   ]
  },
  {
   "cell_type": "code",
   "execution_count": 234,
   "id": "8cfc126a",
   "metadata": {},
   "outputs": [],
   "source": [
    "prophet_forecast=p.predict(df_prophet[['ds']])\n",
    "prophet_trend=prophet_forecast['trend'].values[:len(df_prophet)]"
   ]
  },
  {
   "cell_type": "code",
   "execution_count": 302,
   "id": "b2528617",
   "metadata": {},
   "outputs": [],
   "source": [
    "residuals=df_prophet['y'].values-prophet_trend"
   ]
  },
  {
   "cell_type": "markdown",
   "id": "b04806e0",
   "metadata": {},
   "source": [
    "## Create lagged x and y for GRU on residuals"
   ]
  },
  {
   "cell_type": "code",
   "execution_count": 303,
   "id": "78f5745c",
   "metadata": {},
   "outputs": [],
   "source": [
    "import numpy as np\n",
    "\n",
    "def create_x_y(residual_series,n_lags):\n",
    "    x,y=[],[]\n",
    "    for i in range(len(residual_series)-n_lags):\n",
    "        x.append(residual_series[i:i+n_lags])\n",
    "        y.append(residual_series[i+n_lags])\n",
    "    return np.array(x).reshape((-1,n_lags,1)),np.array(y)\n",
    "\n",
    "n_lags=100\n",
    "x_res,y_res=create_x_y(residuals,n_lags)\n",
    "\n",
    "train_size=int(0.8*len(x_res))\n",
    "x_train_res,x_test_res=x_res[:train_size],x_res[train_size:]\n",
    "y_train_res,y_test_res=y_res[:train_size],y_res[train_size:]"
   ]
  },
  {
   "cell_type": "code",
   "execution_count": 304,
   "id": "fecc80c2",
   "metadata": {},
   "outputs": [
    {
     "name": "stdout",
     "output_type": "stream",
     "text": [
      "Epoch 1/5\n"
     ]
    },
    {
     "name": "stderr",
     "output_type": "stream",
     "text": [
      "/Users/akshatsinha/Library/Python/3.9/lib/python/site-packages/keras/src/layers/rnn/rnn.py:199: UserWarning: Do not pass an `input_shape`/`input_dim` argument to a layer. When using Sequential models, prefer using an `Input(shape)` object as the first layer in the model instead.\n",
      "  super().__init__(**kwargs)\n"
     ]
    },
    {
     "name": "stdout",
     "output_type": "stream",
     "text": [
      "\u001b[1m148/148\u001b[0m \u001b[32m━━━━━━━━━━━━━━━━━━━━\u001b[0m\u001b[37m\u001b[0m \u001b[1m3s\u001b[0m 17ms/step - loss: 0.0041 - val_loss: 5.0710e-04\n",
      "Epoch 2/5\n",
      "\u001b[1m148/148\u001b[0m \u001b[32m━━━━━━━━━━━━━━━━━━━━\u001b[0m\u001b[37m\u001b[0m \u001b[1m2s\u001b[0m 16ms/step - loss: 0.0023 - val_loss: 4.2943e-04\n",
      "Epoch 3/5\n",
      "\u001b[1m148/148\u001b[0m \u001b[32m━━━━━━━━━━━━━━━━━━━━\u001b[0m\u001b[37m\u001b[0m \u001b[1m2s\u001b[0m 17ms/step - loss: 0.0014 - val_loss: 4.4512e-04\n",
      "Epoch 4/5\n",
      "\u001b[1m148/148\u001b[0m \u001b[32m━━━━━━━━━━━━━━━━━━━━\u001b[0m\u001b[37m\u001b[0m \u001b[1m2s\u001b[0m 16ms/step - loss: 0.0014 - val_loss: 3.7174e-04\n",
      "Epoch 5/5\n",
      "\u001b[1m148/148\u001b[0m \u001b[32m━━━━━━━━━━━━━━━━━━━━\u001b[0m\u001b[37m\u001b[0m \u001b[1m3s\u001b[0m 18ms/step - loss: 0.0021 - val_loss: 4.3025e-04\n"
     ]
    },
    {
     "data": {
      "text/plain": [
       "<keras.src.callbacks.history.History at 0x3ae138e80>"
      ]
     },
     "execution_count": 304,
     "metadata": {},
     "output_type": "execute_result"
    }
   ],
   "source": [
    "import tensorflow\n",
    "from tensorflow.keras.models import Sequential\n",
    "from tensorflow.keras.layers import Dense,GRU,LSTM\n",
    "\n",
    "lstm_res=Sequential([\n",
    "    GRU(80,input_shape=(n_lags,1)),\n",
    "    Dense(1)\n",
    "])\n",
    "\n",
    "lstm_res.compile(loss='mean_squared_error',optimizer='adam')\n",
    "lstm_res.fit(x_train_res,y_train_res,epochs=5,validation_split=0.2,batch_size=32)"
   ]
  },
  {
   "cell_type": "code",
   "execution_count": 326,
   "id": "75630fbf",
   "metadata": {},
   "outputs": [
    {
     "name": "stdout",
     "output_type": "stream",
     "text": [
      "\u001b[1m46/46\u001b[0m \u001b[32m━━━━━━━━━━━━━━━━━━━━\u001b[0m\u001b[37m\u001b[0m \u001b[1m0s\u001b[0m 5ms/step\n"
     ]
    }
   ],
   "source": [
    "pred_res=lstm_res.predict(x_test_res).flatten()\n",
    "\n",
    "future=p.make_future_dataframe(periods=len(y_test_res))\n",
    "prophet_forecast_lstm=p.predict(future)\n",
    "trend_test=prophet_forecast_lstm['trend'].values[-len(y_test_res):]"
   ]
  },
  {
   "cell_type": "code",
   "execution_count": 327,
   "id": "e0c433ef",
   "metadata": {},
   "outputs": [
    {
     "data": {
      "text/plain": [
       "(array([7.36243188, 7.36280411, 7.36317635, ..., 7.90924474, 7.90961698,\n",
       "        7.90998921]),\n",
       " array([-0.07684967, -0.07496724, -0.06164617, ..., -0.11336449,\n",
       "        -0.1155982 , -0.12066118], dtype=float32))"
      ]
     },
     "execution_count": 327,
     "metadata": {},
     "output_type": "execute_result"
    }
   ],
   "source": [
    "trend_test,pred_res"
   ]
  },
  {
   "cell_type": "code",
   "execution_count": 328,
   "id": "3fe2f594",
   "metadata": {},
   "outputs": [],
   "source": [
    "trend_test=trend_test\n",
    "pred_res=pred_res"
   ]
  },
  {
   "cell_type": "code",
   "execution_count": 352,
   "id": "f36e3af8",
   "metadata": {},
   "outputs": [],
   "source": [
    "hybrid_preds=0.9*(trend_test)+0.1*(pred_res)"
   ]
  },
  {
   "cell_type": "code",
   "execution_count": 353,
   "id": "4b8b700d",
   "metadata": {},
   "outputs": [
    {
     "data": {
      "text/plain": [
       "array([6.61850372, 6.61902698, 6.6206941 , ..., 7.10698382, 7.10709546,\n",
       "       7.10692417])"
      ]
     },
     "execution_count": 353,
     "metadata": {},
     "output_type": "execute_result"
    }
   ],
   "source": [
    "hybrid_preds"
   ]
  },
  {
   "cell_type": "code",
   "execution_count": 354,
   "id": "5ce43613",
   "metadata": {},
   "outputs": [
    {
     "data": {
      "text/plain": [
       "array([6.46399032, 6.4866018 , 6.49478204, ..., 7.22460776, 7.21817684,\n",
       "       7.22161663])"
      ]
     },
     "execution_count": 354,
     "metadata": {},
     "output_type": "execute_result"
    }
   ],
   "source": [
    "y_true = df_prophet['y'].values[-len(y_test_res):]\n",
    "y_true"
   ]
  },
  {
   "cell_type": "code",
   "execution_count": 355,
   "id": "70480ecc",
   "metadata": {},
   "outputs": [],
   "source": [
    "real=np.exp(y_true)\n",
    "pred=np.exp(hybrid_preds)"
   ]
  },
  {
   "cell_type": "code",
   "execution_count": 356,
   "id": "7c204f52",
   "metadata": {},
   "outputs": [
    {
     "name": "stdout",
     "output_type": "stream",
     "text": [
      "Hybrid Prophet+GRU MAPE: 2.238349577880582\n"
     ]
    }
   ],
   "source": [
    "from sklearn.metrics import mean_absolute_percentage_error\n",
    "mape = mean_absolute_percentage_error(y_true,hybrid_preds)\n",
    "print(\"Hybrid Prophet+GRU MAPE:\", mape*100)\n"
   ]
  },
  {
   "cell_type": "code",
   "execution_count": 357,
   "id": "de67c208",
   "metadata": {},
   "outputs": [
    {
     "data": {
      "text/plain": [
       "14.77894720538072"
      ]
     },
     "execution_count": 357,
     "metadata": {},
     "output_type": "execute_result"
    }
   ],
   "source": [
    "mean_absolute_percentage_error(real,pred)*100"
   ]
  },
  {
   "cell_type": "code",
   "execution_count": 358,
   "id": "b60f81cb",
   "metadata": {},
   "outputs": [
    {
     "data": {
      "text/plain": [
       "(array([ 641.61621094,  656.28936768,  661.67999268, ..., 1372.80004883,\n",
       "        1364.        , 1368.69995117]),\n",
       " array([ 748.8238118 ,  749.21573933,  750.46581266, ..., 1220.4608577 ,\n",
       "        1220.59711652, 1220.38806274]))"
      ]
     },
     "execution_count": 358,
     "metadata": {},
     "output_type": "execute_result"
    }
   ],
   "source": [
    "real,pred"
   ]
  },
  {
   "cell_type": "code",
   "execution_count": null,
   "id": "556bb5dd",
   "metadata": {},
   "outputs": [],
   "source": []
  }
 ],
 "metadata": {
  "kernelspec": {
   "display_name": "Python 3",
   "language": "python",
   "name": "python3"
  },
  "language_info": {
   "codemirror_mode": {
    "name": "ipython",
    "version": 3
   },
   "file_extension": ".py",
   "mimetype": "text/x-python",
   "name": "python",
   "nbconvert_exporter": "python",
   "pygments_lexer": "ipython3",
   "version": "3.9.6"
  }
 },
 "nbformat": 4,
 "nbformat_minor": 5
}

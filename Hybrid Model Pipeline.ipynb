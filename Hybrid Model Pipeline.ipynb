{
 "cells": [
  {
   "cell_type": "code",
   "execution_count": 20,
   "id": "b3992576",
   "metadata": {},
   "outputs": [],
   "source": [
    "import pandas as pd\n",
    "df=pd.read_csv('Data Complete.csv')\n",
    "df=df.drop(columns=['Unnamed: 0'])"
   ]
  },
  {
   "cell_type": "code",
   "execution_count": null,
   "id": "6022cf4e",
   "metadata": {},
   "outputs": [],
   "source": [
    "df['% Return']=df['Close'].pct_change()*100\n",
    "df['Direction']=(df['% Return']>0).astype(int)\n",
    "import numpy as np\n",
    "df['Log Return']=np.log(df['Close']/df['Close'].shift(1))"
   ]
  },
  {
   "cell_type": "code",
   "execution_count": 22,
   "id": "a2186dc8",
   "metadata": {},
   "outputs": [
    {
     "data": {
      "text/plain": [
       "Index(['Date', 'Open', 'Close', 'Adj Close', 'High', 'Low', 'Volume',\n",
       "       'MACD_Line', 'MACD_Signal', 'MACD_Histogram', 'RSI_14',\n",
       "       'Daily % Return', 'SMA_10', 'EMA_10', 'SMA_20', 'EMA_20', 'SMA_50',\n",
       "       'EMA_50', 'SMA_100', 'EMA_100', 'SMA_200', 'EMA_200', 'Close_LAG1',\n",
       "       'Close_LAG2', 'Close_LAG3', 'Close_LAG5', 'Close_LAG7', 'Close_LAG14',\n",
       "       '% Return', 'Direction', 'Log Return'],\n",
       "      dtype='object')"
      ]
     },
     "execution_count": 22,
     "metadata": {},
     "output_type": "execute_result"
    }
   ],
   "source": [
    "df.columns"
   ]
  },
  {
   "cell_type": "code",
   "execution_count": 232,
   "id": "e988d5c5",
   "metadata": {},
   "outputs": [
    {
     "name": "stderr",
     "output_type": "stream",
     "text": [
      "/var/folders/nc/hvlqvddd2xj11jl0l69nx3580000gn/T/ipykernel_42338/2860289521.py:3: SettingWithCopyWarning: \n",
      "A value is trying to be set on a copy of a slice from a DataFrame.\n",
      "Try using .loc[row_indexer,col_indexer] = value instead\n",
      "\n",
      "See the caveats in the documentation: https://pandas.pydata.org/pandas-docs/stable/user_guide/indexing.html#returning-a-view-versus-a-copy\n",
      "  df_prophet['y']=np.log(df_prophet[['y']])\n"
     ]
    }
   ],
   "source": [
    "df_prophet=df[['Date','Adj Close']]\n",
    "df_prophet.columns=['ds','y']\n",
    "df_prophet['y']=np.log(df_prophet[['y']])"
   ]
  },
  {
   "cell_type": "code",
   "execution_count": 233,
   "id": "3bebb666",
   "metadata": {},
   "outputs": [
    {
     "name": "stderr",
     "output_type": "stream",
     "text": [
      "19:43:34 - cmdstanpy - INFO - Chain [1] start processing\n",
      "19:43:36 - cmdstanpy - INFO - Chain [1] done processing\n"
     ]
    },
    {
     "data": {
      "text/plain": [
       "<prophet.forecaster.Prophet at 0x389cf7a60>"
      ]
     },
     "execution_count": 233,
     "metadata": {},
     "output_type": "execute_result"
    }
   ],
   "source": [
    "from prophet import Prophet\n",
    "p=Prophet()\n",
    "p.fit(df_prophet)"
   ]
  },
  {
   "cell_type": "code",
   "execution_count": 234,
   "id": "8cfc126a",
   "metadata": {},
   "outputs": [],
   "source": [
    "prophet_forecast=p.predict(df_prophet[['ds']])\n",
    "prophet_trend=prophet_forecast['trend'].values[:len(df_prophet)]"
   ]
  },
  {
   "cell_type": "code",
   "execution_count": 302,
   "id": "b2528617",
   "metadata": {},
   "outputs": [],
   "source": [
    "residuals=df_prophet['y'].values-prophet_trend"
   ]
  },
  {
   "cell_type": "markdown",
   "id": "b04806e0",
   "metadata": {},
   "source": [
    "## Create lagged x and y for GRU on residuals"
   ]
  },
  {
   "cell_type": "code",
   "execution_count": 657,
   "id": "78f5745c",
   "metadata": {},
   "outputs": [],
   "source": [
    "import numpy as np\n",
    "\n",
    "def create_x_y(residual_series,n_lags):\n",
    "    x,y=[],[]\n",
    "    for i in range(len(residual_series)-n_lags):\n",
    "        x.append(residual_series[i:i+n_lags])\n",
    "        y.append(residual_series[i+n_lags])\n",
    "    return np.array(x).reshape((-1,n_lags,1)),np.array(y)\n",
    "\n",
    "n_lags=100\n",
    "x_res,y_res=create_x_y(residuals,n_lags)\n",
    "\n",
    "train_size=int(0.8*len(x_res))\n",
    "past_n_days=100\n",
    "x_train_res,x_test_res=x_res[:train_size],x_res[train_size:]\n",
    "y_train_res,y_test_res=y_res[:train_size],y_res[train_size:]"
   ]
  },
  {
   "cell_type": "code",
   "execution_count": 663,
   "id": "4b1d4458",
   "metadata": {},
   "outputs": [
    {
     "name": "stdout",
     "output_type": "stream",
     "text": [
      "Epoch 1/50\n"
     ]
    },
    {
     "name": "stderr",
     "output_type": "stream",
     "text": [
      "/Users/akshatsinha/Library/Python/3.9/lib/python/site-packages/keras/src/layers/rnn/rnn.py:199: UserWarning: Do not pass an `input_shape`/`input_dim` argument to a layer. When using Sequential models, prefer using an `Input(shape)` object as the first layer in the model instead.\n",
      "  super().__init__(**kwargs)\n"
     ]
    },
    {
     "name": "stdout",
     "output_type": "stream",
     "text": [
      "\u001b[1m148/148\u001b[0m \u001b[32m━━━━━━━━━━━━━━━━━━━━\u001b[0m\u001b[37m\u001b[0m \u001b[1m3s\u001b[0m 17ms/step - loss: 0.0033 - val_loss: 4.0352e-04\n",
      "Epoch 2/50\n",
      "\u001b[1m148/148\u001b[0m \u001b[32m━━━━━━━━━━━━━━━━━━━━\u001b[0m\u001b[37m\u001b[0m \u001b[1m2s\u001b[0m 16ms/step - loss: 0.0014 - val_loss: 3.5114e-04\n",
      "Epoch 3/50\n",
      "\u001b[1m148/148\u001b[0m \u001b[32m━━━━━━━━━━━━━━━━━━━━\u001b[0m\u001b[37m\u001b[0m \u001b[1m2s\u001b[0m 17ms/step - loss: 0.0013 - val_loss: 4.2141e-04\n",
      "Epoch 4/50\n",
      "\u001b[1m148/148\u001b[0m \u001b[32m━━━━━━━━━━━━━━━━━━━━\u001b[0m\u001b[37m\u001b[0m \u001b[1m3s\u001b[0m 17ms/step - loss: 9.8364e-04 - val_loss: 3.4582e-04\n",
      "Epoch 5/50\n",
      "\u001b[1m148/148\u001b[0m \u001b[32m━━━━━━━━━━━━━━━━━━━━\u001b[0m\u001b[37m\u001b[0m \u001b[1m3s\u001b[0m 18ms/step - loss: 0.0037 - val_loss: 3.0936e-04\n",
      "Epoch 6/50\n",
      "\u001b[1m148/148\u001b[0m \u001b[32m━━━━━━━━━━━━━━━━━━━━\u001b[0m\u001b[37m\u001b[0m \u001b[1m2s\u001b[0m 16ms/step - loss: 0.0011 - val_loss: 3.4768e-04\n",
      "Epoch 7/50\n",
      "\u001b[1m148/148\u001b[0m \u001b[32m━━━━━━━━━━━━━━━━━━━━\u001b[0m\u001b[37m\u001b[0m \u001b[1m2s\u001b[0m 17ms/step - loss: 0.0014 - val_loss: 2.9769e-04\n",
      "Epoch 8/50\n",
      "\u001b[1m148/148\u001b[0m \u001b[32m━━━━━━━━━━━━━━━━━━━━\u001b[0m\u001b[37m\u001b[0m \u001b[1m2s\u001b[0m 16ms/step - loss: 0.0012 - val_loss: 3.7111e-04\n",
      "Epoch 9/50\n",
      "\u001b[1m148/148\u001b[0m \u001b[32m━━━━━━━━━━━━━━━━━━━━\u001b[0m\u001b[37m\u001b[0m \u001b[1m2s\u001b[0m 16ms/step - loss: 0.0030 - val_loss: 3.1989e-04\n",
      "Epoch 10/50\n",
      "\u001b[1m148/148\u001b[0m \u001b[32m━━━━━━━━━━━━━━━━━━━━\u001b[0m\u001b[37m\u001b[0m \u001b[1m2s\u001b[0m 16ms/step - loss: 0.0011 - val_loss: 3.1799e-04\n",
      "Epoch 11/50\n",
      "\u001b[1m148/148\u001b[0m \u001b[32m━━━━━━━━━━━━━━━━━━━━\u001b[0m\u001b[37m\u001b[0m \u001b[1m2s\u001b[0m 16ms/step - loss: 0.0017 - val_loss: 3.0866e-04\n",
      "Epoch 12/50\n",
      "\u001b[1m148/148\u001b[0m \u001b[32m━━━━━━━━━━━━━━━━━━━━\u001b[0m\u001b[37m\u001b[0m \u001b[1m3s\u001b[0m 18ms/step - loss: 9.2301e-04 - val_loss: 3.5003e-04\n",
      "Epoch 13/50\n",
      "\u001b[1m148/148\u001b[0m \u001b[32m━━━━━━━━━━━━━━━━━━━━\u001b[0m\u001b[37m\u001b[0m \u001b[1m2s\u001b[0m 16ms/step - loss: 0.0020 - val_loss: 3.4750e-04\n",
      "Epoch 14/50\n",
      "\u001b[1m148/148\u001b[0m \u001b[32m━━━━━━━━━━━━━━━━━━━━\u001b[0m\u001b[37m\u001b[0m \u001b[1m2s\u001b[0m 17ms/step - loss: 0.0012 - val_loss: 2.9559e-04\n",
      "Epoch 15/50\n",
      "\u001b[1m148/148\u001b[0m \u001b[32m━━━━━━━━━━━━━━━━━━━━\u001b[0m\u001b[37m\u001b[0m \u001b[1m2s\u001b[0m 16ms/step - loss: 0.0020 - val_loss: 2.8580e-04\n",
      "Epoch 16/50\n",
      "\u001b[1m148/148\u001b[0m \u001b[32m━━━━━━━━━━━━━━━━━━━━\u001b[0m\u001b[37m\u001b[0m \u001b[1m3s\u001b[0m 17ms/step - loss: 0.0018 - val_loss: 2.8896e-04\n",
      "Epoch 17/50\n",
      "\u001b[1m148/148\u001b[0m \u001b[32m━━━━━━━━━━━━━━━━━━━━\u001b[0m\u001b[37m\u001b[0m \u001b[1m2s\u001b[0m 16ms/step - loss: 0.0012 - val_loss: 2.8674e-04\n",
      "Epoch 18/50\n",
      "\u001b[1m148/148\u001b[0m \u001b[32m━━━━━━━━━━━━━━━━━━━━\u001b[0m\u001b[37m\u001b[0m \u001b[1m2s\u001b[0m 16ms/step - loss: 0.0012 - val_loss: 7.9472e-04\n",
      "Epoch 19/50\n",
      "\u001b[1m148/148\u001b[0m \u001b[32m━━━━━━━━━━━━━━━━━━━━\u001b[0m\u001b[37m\u001b[0m \u001b[1m2s\u001b[0m 16ms/step - loss: 0.0014 - val_loss: 3.4785e-04\n",
      "Epoch 20/50\n",
      "\u001b[1m148/148\u001b[0m \u001b[32m━━━━━━━━━━━━━━━━━━━━\u001b[0m\u001b[37m\u001b[0m \u001b[1m2s\u001b[0m 16ms/step - loss: 0.0015 - val_loss: 4.0525e-04\n",
      "Epoch 21/50\n",
      "\u001b[1m148/148\u001b[0m \u001b[32m━━━━━━━━━━━━━━━━━━━━\u001b[0m\u001b[37m\u001b[0m \u001b[1m2s\u001b[0m 16ms/step - loss: 0.0012 - val_loss: 3.8708e-04\n",
      "Epoch 22/50\n",
      "\u001b[1m148/148\u001b[0m \u001b[32m━━━━━━━━━━━━━━━━━━━━\u001b[0m\u001b[37m\u001b[0m \u001b[1m2s\u001b[0m 16ms/step - loss: 0.0012 - val_loss: 3.0078e-04\n",
      "Epoch 23/50\n",
      "\u001b[1m148/148\u001b[0m \u001b[32m━━━━━━━━━━━━━━━━━━━━\u001b[0m\u001b[37m\u001b[0m \u001b[1m2s\u001b[0m 16ms/step - loss: 0.0015 - val_loss: 2.9732e-04\n",
      "Epoch 24/50\n",
      "\u001b[1m148/148\u001b[0m \u001b[32m━━━━━━━━━━━━━━━━━━━━\u001b[0m\u001b[37m\u001b[0m \u001b[1m2s\u001b[0m 16ms/step - loss: 0.0028 - val_loss: 3.2182e-04\n",
      "Epoch 25/50\n",
      "\u001b[1m148/148\u001b[0m \u001b[32m━━━━━━━━━━━━━━━━━━━━\u001b[0m\u001b[37m\u001b[0m \u001b[1m2s\u001b[0m 16ms/step - loss: 0.0020 - val_loss: 2.9536e-04\n",
      "Epoch 26/50\n",
      "\u001b[1m148/148\u001b[0m \u001b[32m━━━━━━━━━━━━━━━━━━━━\u001b[0m\u001b[37m\u001b[0m \u001b[1m2s\u001b[0m 16ms/step - loss: 0.0022 - val_loss: 2.8005e-04\n",
      "Epoch 27/50\n",
      "\u001b[1m148/148\u001b[0m \u001b[32m━━━━━━━━━━━━━━━━━━━━\u001b[0m\u001b[37m\u001b[0m \u001b[1m2s\u001b[0m 16ms/step - loss: 0.0021 - val_loss: 2.7603e-04\n",
      "Epoch 28/50\n",
      "\u001b[1m148/148\u001b[0m \u001b[32m━━━━━━━━━━━━━━━━━━━━\u001b[0m\u001b[37m\u001b[0m \u001b[1m2s\u001b[0m 16ms/step - loss: 0.0012 - val_loss: 3.2822e-04\n",
      "Epoch 29/50\n",
      "\u001b[1m148/148\u001b[0m \u001b[32m━━━━━━━━━━━━━━━━━━━━\u001b[0m\u001b[37m\u001b[0m \u001b[1m2s\u001b[0m 16ms/step - loss: 9.0027e-04 - val_loss: 2.8799e-04\n",
      "Epoch 30/50\n",
      "\u001b[1m148/148\u001b[0m \u001b[32m━━━━━━━━━━━━━━━━━━━━\u001b[0m\u001b[37m\u001b[0m \u001b[1m2s\u001b[0m 16ms/step - loss: 0.0010 - val_loss: 3.1741e-04\n",
      "Epoch 31/50\n",
      "\u001b[1m148/148\u001b[0m \u001b[32m━━━━━━━━━━━━━━━━━━━━\u001b[0m\u001b[37m\u001b[0m \u001b[1m2s\u001b[0m 16ms/step - loss: 0.0013 - val_loss: 3.1065e-04\n",
      "Epoch 32/50\n",
      "\u001b[1m148/148\u001b[0m \u001b[32m━━━━━━━━━━━━━━━━━━━━\u001b[0m\u001b[37m\u001b[0m \u001b[1m2s\u001b[0m 16ms/step - loss: 9.6987e-04 - val_loss: 2.8749e-04\n",
      "Epoch 33/50\n",
      "\u001b[1m148/148\u001b[0m \u001b[32m━━━━━━━━━━━━━━━━━━━━\u001b[0m\u001b[37m\u001b[0m \u001b[1m2s\u001b[0m 16ms/step - loss: 0.0023 - val_loss: 3.0177e-04\n",
      "Epoch 34/50\n",
      "\u001b[1m148/148\u001b[0m \u001b[32m━━━━━━━━━━━━━━━━━━━━\u001b[0m\u001b[37m\u001b[0m \u001b[1m2s\u001b[0m 16ms/step - loss: 8.7395e-04 - val_loss: 3.6402e-04\n",
      "Epoch 35/50\n",
      "\u001b[1m148/148\u001b[0m \u001b[32m━━━━━━━━━━━━━━━━━━━━\u001b[0m\u001b[37m\u001b[0m \u001b[1m2s\u001b[0m 16ms/step - loss: 0.0017 - val_loss: 2.7753e-04\n",
      "Epoch 36/50\n",
      "\u001b[1m148/148\u001b[0m \u001b[32m━━━━━━━━━━━━━━━━━━━━\u001b[0m\u001b[37m\u001b[0m \u001b[1m2s\u001b[0m 16ms/step - loss: 0.0011 - val_loss: 2.9744e-04\n",
      "Epoch 37/50\n",
      "\u001b[1m148/148\u001b[0m \u001b[32m━━━━━━━━━━━━━━━━━━━━\u001b[0m\u001b[37m\u001b[0m \u001b[1m2s\u001b[0m 16ms/step - loss: 0.0019 - val_loss: 2.7298e-04\n",
      "Epoch 38/50\n",
      "\u001b[1m148/148\u001b[0m \u001b[32m━━━━━━━━━━━━━━━━━━━━\u001b[0m\u001b[37m\u001b[0m \u001b[1m2s\u001b[0m 16ms/step - loss: 9.2812e-04 - val_loss: 3.0849e-04\n",
      "Epoch 39/50\n",
      "\u001b[1m148/148\u001b[0m \u001b[32m━━━━━━━━━━━━━━━━━━━━\u001b[0m\u001b[37m\u001b[0m \u001b[1m2s\u001b[0m 16ms/step - loss: 9.3864e-04 - val_loss: 3.3226e-04\n",
      "Epoch 40/50\n",
      "\u001b[1m148/148\u001b[0m \u001b[32m━━━━━━━━━━━━━━━━━━━━\u001b[0m\u001b[37m\u001b[0m \u001b[1m2s\u001b[0m 16ms/step - loss: 0.0011 - val_loss: 2.7469e-04\n",
      "Epoch 41/50\n",
      "\u001b[1m148/148\u001b[0m \u001b[32m━━━━━━━━━━━━━━━━━━━━\u001b[0m\u001b[37m\u001b[0m \u001b[1m2s\u001b[0m 16ms/step - loss: 0.0016 - val_loss: 2.8564e-04\n",
      "Epoch 42/50\n",
      "\u001b[1m148/148\u001b[0m \u001b[32m━━━━━━━━━━━━━━━━━━━━\u001b[0m\u001b[37m\u001b[0m \u001b[1m2s\u001b[0m 16ms/step - loss: 8.5313e-04 - val_loss: 2.7189e-04\n",
      "Epoch 43/50\n",
      "\u001b[1m148/148\u001b[0m \u001b[32m━━━━━━━━━━━━━━━━━━━━\u001b[0m\u001b[37m\u001b[0m \u001b[1m2s\u001b[0m 16ms/step - loss: 0.0012 - val_loss: 2.8055e-04\n",
      "Epoch 44/50\n",
      "\u001b[1m148/148\u001b[0m \u001b[32m━━━━━━━━━━━━━━━━━━━━\u001b[0m\u001b[37m\u001b[0m \u001b[1m2s\u001b[0m 16ms/step - loss: 0.0015 - val_loss: 2.6967e-04\n",
      "Epoch 45/50\n",
      "\u001b[1m148/148\u001b[0m \u001b[32m━━━━━━━━━━━━━━━━━━━━\u001b[0m\u001b[37m\u001b[0m \u001b[1m2s\u001b[0m 16ms/step - loss: 8.3876e-04 - val_loss: 2.9706e-04\n",
      "Epoch 46/50\n",
      "\u001b[1m148/148\u001b[0m \u001b[32m━━━━━━━━━━━━━━━━━━━━\u001b[0m\u001b[37m\u001b[0m \u001b[1m2s\u001b[0m 16ms/step - loss: 0.0010 - val_loss: 2.7262e-04\n",
      "Epoch 47/50\n",
      "\u001b[1m148/148\u001b[0m \u001b[32m━━━━━━━━━━━━━━━━━━━━\u001b[0m\u001b[37m\u001b[0m \u001b[1m2s\u001b[0m 16ms/step - loss: 0.0010 - val_loss: 2.7056e-04\n",
      "Epoch 48/50\n",
      "\u001b[1m148/148\u001b[0m \u001b[32m━━━━━━━━━━━━━━━━━━━━\u001b[0m\u001b[37m\u001b[0m \u001b[1m2s\u001b[0m 16ms/step - loss: 0.0011 - val_loss: 2.7109e-04\n",
      "Epoch 49/50\n",
      "\u001b[1m148/148\u001b[0m \u001b[32m━━━━━━━━━━━━━━━━━━━━\u001b[0m\u001b[37m\u001b[0m \u001b[1m3s\u001b[0m 17ms/step - loss: 0.0020 - val_loss: 2.7157e-04\n",
      "Epoch 50/50\n",
      "\u001b[1m148/148\u001b[0m \u001b[32m━━━━━━━━━━━━━━━━━━━━\u001b[0m\u001b[37m\u001b[0m \u001b[1m2s\u001b[0m 16ms/step - loss: 8.1369e-04 - val_loss: 2.6400e-04\n"
     ]
    },
    {
     "data": {
      "text/plain": [
       "<keras.src.callbacks.history.History at 0x3f84a21f0>"
      ]
     },
     "execution_count": 663,
     "metadata": {},
     "output_type": "execute_result"
    }
   ],
   "source": [
    "import tensorflow\n",
    "from tensorflow.keras.models import Sequential\n",
    "from tensorflow.keras.layers import Dense,GRU,LSTM\n",
    "\n",
    "gru_res=Sequential([\n",
    "    GRU(80,input_shape=(n_lags,1)),\n",
    "    Dense(1)\n",
    "])\n",
    "\n",
    "gru_res.compile(loss='mean_squared_error',optimizer='adam')\n",
    "gru_res.fit(x_train_res,y_train_res,epochs=50,validation_split=0.2,batch_size=32)"
   ]
  },
  {
   "cell_type": "code",
   "execution_count": 664,
   "id": "75630fbf",
   "metadata": {},
   "outputs": [
    {
     "name": "stdout",
     "output_type": "stream",
     "text": [
      "\u001b[1m46/46\u001b[0m \u001b[32m━━━━━━━━━━━━━━━━━━━━\u001b[0m\u001b[37m\u001b[0m \u001b[1m0s\u001b[0m 5ms/step\n"
     ]
    }
   ],
   "source": [
    "pred_res=gru_res.predict(x_test_res).flatten()\n",
    "\n",
    "future=p.make_future_dataframe(periods=len(y_test_res))\n",
    "prophet_forecast_gru=p.predict(future)\n",
    "trend_test=prophet_forecast_gru['trend'].values[-len(y_test_res):]"
   ]
  },
  {
   "cell_type": "code",
   "execution_count": 665,
   "id": "e0c433ef",
   "metadata": {},
   "outputs": [
    {
     "data": {
      "text/plain": [
       "(array([7.36243188, 7.36280411, 7.36317635, ..., 7.90924474, 7.90961698,\n",
       "        7.90998921]),\n",
       " array([-0.0914484 , -0.09043772, -0.06955054, ..., -0.12904078,\n",
       "        -0.1340464 , -0.14116815], dtype=float32))"
      ]
     },
     "execution_count": 665,
     "metadata": {},
     "output_type": "execute_result"
    }
   ],
   "source": [
    "trend_test,pred_res"
   ]
  },
  {
   "cell_type": "code",
   "execution_count": 666,
   "id": "3fe2f594",
   "metadata": {},
   "outputs": [],
   "source": [
    "trend_test=trend_test\n",
    "pred_res=pred_res"
   ]
  },
  {
   "cell_type": "code",
   "execution_count": 667,
   "id": "f36e3af8",
   "metadata": {},
   "outputs": [],
   "source": [
    "hybrid_preds=0.91*(trend_test)+0.25*(pred_res)"
   ]
  },
  {
   "cell_type": "code",
   "execution_count": 668,
   "id": "4b8b700d",
   "metadata": {},
   "outputs": [
    {
     "data": {
      "text/plain": [
       "array([6.67695091, 6.67754231, 6.68310284, ..., 7.16515252, 7.16423985,\n",
       "       7.16279815])"
      ]
     },
     "execution_count": 668,
     "metadata": {},
     "output_type": "execute_result"
    }
   ],
   "source": [
    "hybrid_preds"
   ]
  },
  {
   "cell_type": "code",
   "execution_count": 669,
   "id": "5ce43613",
   "metadata": {},
   "outputs": [
    {
     "data": {
      "text/plain": [
       "array([6.46399032, 6.4866018 , 6.49478204, ..., 7.22460776, 7.21817684,\n",
       "       7.22161663])"
      ]
     },
     "execution_count": 669,
     "metadata": {},
     "output_type": "execute_result"
    }
   ],
   "source": [
    "y_true = df_prophet['y'].values[-len(y_test_res):]\n",
    "y_true"
   ]
  },
  {
   "cell_type": "code",
   "execution_count": 670,
   "id": "70480ecc",
   "metadata": {},
   "outputs": [],
   "source": [
    "real=np.exp(y_true)\n",
    "pred=np.exp(hybrid_preds)"
   ]
  },
  {
   "cell_type": "code",
   "execution_count": 676,
   "id": "7c204f52",
   "metadata": {},
   "outputs": [
    {
     "data": {
      "text/plain": [
       "1.382405461712165"
      ]
     },
     "execution_count": 676,
     "metadata": {},
     "output_type": "execute_result"
    }
   ],
   "source": [
    "from sklearn.metrics import mean_absolute_percentage_error\n",
    "mean_absolute_percentage_error(y_true,hybrid_preds)*100"
   ]
  },
  {
   "cell_type": "code",
   "execution_count": 679,
   "id": "de67c208",
   "metadata": {},
   "outputs": [
    {
     "name": "stdout",
     "output_type": "stream",
     "text": [
      "GRU+Prophet error % = 9.600557135102953\n"
     ]
    }
   ],
   "source": [
    "print(\"GRU+Prophet error % =\",mean_absolute_percentage_error(real,pred)*100)"
   ]
  },
  {
   "cell_type": "code",
   "execution_count": 673,
   "id": "b60f81cb",
   "metadata": {},
   "outputs": [
    {
     "data": {
      "text/plain": [
       "(array([ 641.61621094,  656.28936768,  661.67999268, ..., 1372.80004883,\n",
       "        1364.        , 1368.69995117]),\n",
       " array([ 793.89476084,  794.36441317,  798.79380293, ..., 1293.55887962,\n",
       "        1292.37882151, 1290.51693908]))"
      ]
     },
     "execution_count": 673,
     "metadata": {},
     "output_type": "execute_result"
    }
   ],
   "source": [
    "real,pred"
   ]
  },
  {
   "cell_type": "code",
   "execution_count": 682,
   "id": "556bb5dd",
   "metadata": {},
   "outputs": [
    {
     "data": {
      "text/plain": [
       "<matplotlib.legend.Legend at 0x49e207400>"
      ]
     },
     "execution_count": 682,
     "metadata": {},
     "output_type": "execute_result"
    },
    {
     "data": {
      "image/png": "[encoded data removed]",
      "text/plain": [
       "<Figure size 1200x500 with 1 Axes>"
      ]
     },
     "metadata": {},
     "output_type": "display_data"
    }
   ],
   "source": [
    "import matplotlib.pyplot as plt\n",
    "plt.figure(figsize=(12,5))\n",
    "plt.plot(df_prophet['ds'].iloc[train_size+100:],real,'g',label=\"Actual Price\")\n",
    "plt.plot(df_prophet['ds'].iloc[train_size+100:],pred,'r',label=\"Predicted Price\")\n",
    "plt.legend()"
   ]
  }
 ],
 "metadata": {
  "kernelspec": {
   "display_name": "Python 3",
   "language": "python",
   "name": "python3"
  },
  "language_info": {
   "codemirror_mode": {
    "name": "ipython",
    "version": 3
   },
   "file_extension": ".py",
   "mimetype": "text/x-python",
   "name": "python",
   "nbconvert_exporter": "python",
   "pygments_lexer": "ipython3",
   "version": "3.9.6"
  }
 },
 "nbformat": 4,
 "nbformat_minor": 5
}
